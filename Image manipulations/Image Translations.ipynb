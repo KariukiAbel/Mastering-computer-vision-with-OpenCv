{
 "cells": [
  {
   "cell_type": "markdown",
   "metadata": {},
   "source": [
    "### Translations\n",
    "An affine transform that shifts position of an image\n",
    "uses cv2.warpAffine"
   ]
  },
  {
   "cell_type": "code",
   "execution_count": 3,
   "metadata": {},
   "outputs": [
    {
     "name": "stdout",
     "output_type": "stream",
     "text": [
      "height 499 px\n",
      "width 500 px\n"
     ]
    }
   ],
   "source": [
    "import cv2\n",
    "import numpy as np\n",
    "\n",
    "#read the image path\n",
    "image = cv2.imread('../dog.790.jpg')\n",
    "\n",
    "# Geting the height and width of the image\n",
    "height, width = image.shape[:2]\n",
    "print('height',height,'px')\n",
    "print('width',width,'px')\n",
    "\n",
    "quarter_height, quarter_width = height/4, width/4\n",
    "print('Quarter height')\n",
    "\n",
    "T = np.float32([[1,0, quarter_width], [0,1, quarter_height]])\n",
    "\n",
    "# Using warpAffine to transform the image using T\n",
    "img_translation = cv2.warpAffine(image, T, (width, height))\n",
    "cv2.imshow('Translated image', img_translation)\n",
    "cv2.waitKey(0)\n",
    "cv2.destroyAllWindows()"
   ]
  },
  {
   "cell_type": "code",
   "execution_count": null,
   "metadata": {},
   "outputs": [],
   "source": [
    "# printing the translation matrix\n",
    "print(T)"
   ]
  }
 ],
 "metadata": {
  "kernelspec": {
   "display_name": "Python 3",
   "language": "python",
   "name": "python3"
  },
  "language_info": {
   "codemirror_mode": {
    "name": "ipython",
    "version": 3
   },
   "file_extension": ".py",
   "mimetype": "text/x-python",
   "name": "python",
   "nbconvert_exporter": "python",
   "pygments_lexer": "ipython3",
   "version": "3.6.9"
  }
 },
 "nbformat": 4,
 "nbformat_minor": 2
}
