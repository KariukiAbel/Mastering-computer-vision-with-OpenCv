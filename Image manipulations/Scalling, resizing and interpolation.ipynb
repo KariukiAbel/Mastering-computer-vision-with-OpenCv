{
 "cells": [
  {
   "cell_type": "markdown",
   "metadata": {},
   "source": [
    "### Scalling, resizing and interpolation\n",
    "Done using cv2.resize() function and the arguments are:\n",
    "#### cv2.resize(image, dsize(output_image_size), x_scale, y_scale, interpolation)"
   ]
  },
  {
   "cell_type": "code",
   "execution_count": 2,
   "metadata": {},
   "outputs": [],
   "source": [
    "import cv2\n",
    "import numpy as np\n",
    "\n",
    "image = cv2.imread('../dog.790.jpg')"
   ]
  },
  {
   "cell_type": "code",
   "execution_count": null,
   "metadata": {},
   "outputs": [],
   "source": [
    "#Making the image 3/4 of the original size\n",
    "scaled_image = cv2.resize(image, None, fx=0.75, fy=0.75)\n",
    "cv2.imshow('Original Image', image)\n",
    "cv2.imshow('Scaling -Linear interpolation', scaled_image)\n",
    "cv2.waitKey()\n",
    "cv2.destroyAllWindows()"
   ]
  },
  {
   "cell_type": "markdown",
   "metadata": {},
   "source": [
    "### Double the size of the image, that is, zoom in"
   ]
  },
  {
   "cell_type": "code",
   "execution_count": null,
   "metadata": {},
   "outputs": [],
   "source": [
    "scaled_image = cv2.resize(image, None, fx=2, fy=2, interpolation = cv2.INTER_CUBIC)\n",
    "cv2.imshow('Original Image', image)\n",
    "cv2.imshow('Scaling by Cubic Interpolation', scaled_image)\n",
    "cv2.waitKey()\n",
    "cv2.destroyAllWindows()"
   ]
  },
  {
   "cell_type": "markdown",
   "metadata": {},
   "source": [
    "### skewing and resizing by setting exact dimensions"
   ]
  },
  {
   "cell_type": "code",
   "execution_count": 4,
   "metadata": {},
   "outputs": [],
   "source": [
    "scaled_image = cv2.resize(image, (900,400), interpolation = cv2.INTER_AREA)\n",
    "cv2.imshow('Original Image', image)\n",
    "cv2.imshow('Scaling by skewed size', scaled_image)\n",
    "cv2.waitKey()\n",
    "cv2.destroyAllWindows()"
   ]
  }
 ],
 "metadata": {
  "kernelspec": {
   "display_name": "Python 3",
   "language": "python",
   "name": "python3"
  },
  "language_info": {
   "codemirror_mode": {
    "name": "ipython",
    "version": 3
   },
   "file_extension": ".py",
   "mimetype": "text/x-python",
   "name": "python",
   "nbconvert_exporter": "python",
   "pygments_lexer": "ipython3",
   "version": "3.6.9"
  }
 },
 "nbformat": 4,
 "nbformat_minor": 2
}
