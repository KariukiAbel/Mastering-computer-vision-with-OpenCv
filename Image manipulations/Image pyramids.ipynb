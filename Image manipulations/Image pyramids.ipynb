{
 "cells": [
  {
   "cell_type": "code",
   "execution_count": 2,
   "metadata": {},
   "outputs": [],
   "source": [
    "import cv2\n",
    "image = cv2.imread('../dog.790.jpg')\n",
    "\n",
    "smaller_image = cv2.pyrDown(image)\n",
    "bigger_image = cv2.pyrUp(smaller_image)\n",
    "bigger_image_from_original = cv2.pyrUp(image)\n",
    "\n",
    "cv2.imshow('Original', image)\n",
    "cv2.imshow('Smaller image', smaller_image)\n",
    "cv2.imshow('Larger image', bigger_image)\n",
    "cv2.imshow('Bigger image from original', bigger_image_from_original)\n",
    "cv2.waitKey(0)\n",
    "cv2.destroyAllWindows()"
   ]
  }
 ],
 "metadata": {
  "kernelspec": {
   "display_name": "Python 3",
   "language": "python",
   "name": "python3"
  },
  "language_info": {
   "codemirror_mode": {
    "name": "ipython",
    "version": 3
   },
   "file_extension": ".py",
   "mimetype": "text/x-python",
   "name": "python",
   "nbconvert_exporter": "python",
   "pygments_lexer": "ipython3",
   "version": "3.6.9"
  }
 },
 "nbformat": 4,
 "nbformat_minor": 2
}
