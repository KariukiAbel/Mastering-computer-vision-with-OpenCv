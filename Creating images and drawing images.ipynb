{
 "cells": [
  {
   "cell_type": "code",
   "execution_count": 2,
   "metadata": {},
   "outputs": [],
   "source": [
    "import cv2\n",
    "import numpy as np"
   ]
  },
  {
   "cell_type": "code",
   "execution_count": 2,
   "metadata": {},
   "outputs": [],
   "source": [
    "# Creating a black image \n",
    "image = np.zeros((512,512,3), np.uint8)\n",
    "\n",
    "# making the above black and white\n",
    "image_black_white = np.zeros((512,512), np.uint8)\n",
    "\n",
    "cv2.imshow('Black image', image)\n",
    "cv2.imshow('Black and White image', image_black_white)\n",
    "\n",
    "cv2.waitKey(0)\n",
    "cv2.destroyAllWindows()"
   ]
  },
  {
   "cell_type": "markdown",
   "metadata": {},
   "source": [
    "## Drawing a line over a black square\n",
    "cv2.line(image, starting_coordinate, ending_coordinates, colour_of_line, thickness_of_line)"
   ]
  },
  {
   "cell_type": "code",
   "execution_count": 3,
   "metadata": {},
   "outputs": [],
   "source": [
    "image = np.zeros((512,512,3), np.uint8)\n",
    "cv2.line(image, (0,0), (512,512), (255,127,0), 5)\n",
    "cv2.imshow('Blue line of 5px thickness',image)\n",
    "cv2.waitKey(0)\n",
    "cv2.destroyAllWindows()"
   ]
  },
  {
   "cell_type": "markdown",
   "metadata": {},
   "source": [
    "### Drawing a rectangle\n",
    "cv2.rectangle(image, starting_vertex, opposite_vertex, colour_of_line, thickness_of_line)"
   ]
  },
  {
   "cell_type": "code",
   "execution_count": 4,
   "metadata": {},
   "outputs": [],
   "source": [
    "image = np.zeros((512,512,3), np.uint8)\n",
    "cv2.rectangle(image,(100,100),(300,250),(127,50,127), 5)\n",
    "cv2.imshow('Rectangle of 5px thickness',image)\n",
    "cv2.waitKey(0)\n",
    "cv2.destroyAllWindows()"
   ]
  },
  {
   "cell_type": "markdown",
   "metadata": {},
   "source": [
    "### Drawing circles\n",
    "cv2.circle(image, center, radius, colour_of_line_circumference, thickness_of_circumference)"
   ]
  },
  {
   "cell_type": "code",
   "execution_count": 6,
   "metadata": {},
   "outputs": [],
   "source": [
    "image = np.zeros((512,512,3), np.uint8)\n",
    "\n",
    "#The -1 here fills the circle with that colour\n",
    "cv2.circle(image,(350,350),100,(15,75,50), -1)\n",
    "cv2.imshow('Circle of 5px thickness circumference',image)\n",
    "cv2.waitKey(0)\n",
    "cv2.destroyAllWindows()"
   ]
  },
  {
   "cell_type": "markdown",
   "metadata": {},
   "source": [
    "### Drawing polygons"
   ]
  },
  {
   "cell_type": "code",
   "execution_count": 7,
   "metadata": {},
   "outputs": [],
   "source": [
    "image = np.zeros((512,512,3), np.uint8)\n",
    "\n",
    "# Defining four point of the polygon\n",
    "pts = np.array([[10,50], [400,50], [90,200], [50,500]], np.int32)\n",
    "\n",
    "#reshaping point into the form required by polylines\n",
    "pts = pts.reshape((-1, 1, 2))\n",
    "\n",
    "cv2.polylines(image, [pts], True, (0,0,255), 3)\n",
    "cv2.imshow('Polygon',image)\n",
    "cv2.waitKey(0)\n",
    "cv2.destroyAllWindows()"
   ]
  },
  {
   "cell_type": "markdown",
   "metadata": {},
   "source": [
    "### Adding Text with cv2.putText\n",
    "cv2.putText(image, 'Text_to_display', bottom_left_starting_point, Font, Font_size, colour, thickness)"
   ]
  },
  {
   "cell_type": "code",
   "execution_count": 3,
   "metadata": {},
   "outputs": [],
   "source": [
    "image = np.zeros((512,512,3), np.uint8)\n",
    "cv2.putText(image, 'OpenCV', (75,290), cv2.FONT_HERSHEY_COMPLEX, 2, (100,170,0), 3)\n",
    "cv2.imshow('Adding text to images',image)\n",
    "cv2.waitKey(0)\n",
    "cv2.destroyAllWindows()"
   ]
  }
 ],
 "metadata": {
  "kernelspec": {
   "display_name": "Python 3",
   "language": "python",
   "name": "python3"
  }
 },
 "nbformat": 4,
 "nbformat_minor": 2
}
