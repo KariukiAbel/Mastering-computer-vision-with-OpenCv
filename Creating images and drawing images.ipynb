{
 "cells": [
  {
   "cell_type": "code",
   "execution_count": 2,
   "metadata": {},
   "outputs": [],
   "source": [
    "import cv2\n",
    "import numpy as np"
   ]
  },
  {
   "cell_type": "code",
   "execution_count": 3,
   "metadata": {},
   "outputs": [],
   "source": [
    "# Creating a black image \n",
    "image = np.zeros((512,512,3), np.uint8)\n",
    "\n",
    "# making the above black and white\n",
    "image_black_white = np.zeros((512,512), np.uint8)\n",
    "\n",
    "cv2.imshow('Black image', image)\n",
    "cv2.imshow('Black and White image', image_black_white)\n",
    "\n",
    "cv2.waitKey(0)\n",
    "cv2.destroyAllWindows()"
   ]
  },
  {
   "cell_type": "markdown",
   "metadata": {},
   "source": [
    "## Drawing a line over a black square\n",
    "cv2.line(image, starting_coordinate, ending_coordinates, colour_of_line, thickness_of_line)"
   ]
  },
  {
   "cell_type": "code",
   "execution_count": null,
   "metadata": {},
   "outputs": [],
   "source": [
    "image = np.zeros((512,512,3), np.uint8)\n",
    "cv2.line(image, (0,0), (512,512), (255,127,0), 5)\n",
    "cv2.imshow('Blue line of 5px thickness',image)\n",
    "cv2.waitKey(0)\n",
    "cv2.destroyAllWindows()"
   ]
  }
 ],
 "metadata": {
  "kernelspec": {
   "display_name": "Python 3",
   "language": "python",
   "name": "python3"
  },
  "language_info": {
   "codemirror_mode": {
    "name": "ipython",
    "version": 3
   },
   "file_extension": ".py",
   "mimetype": "text/x-python",
   "name": "python",
   "nbconvert_exporter": "python",
   "pygments_lexer": "ipython3",
   "version": "3.6.9"
  }
 },
 "nbformat": 4,
 "nbformat_minor": 2
}
