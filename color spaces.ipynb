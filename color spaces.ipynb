{
 "cells": [
  {
   "cell_type": "code",
   "execution_count": 1,
   "metadata": {},
   "outputs": [],
   "source": [
    "import cv2\n",
    "import numpy as np"
   ]
  },
  {
   "cell_type": "code",
   "execution_count": 2,
   "metadata": {},
   "outputs": [],
   "source": [
    "image = cv2.imread('dog.790.jpg')"
   ]
  },
  {
   "cell_type": "code",
   "execution_count": 3,
   "metadata": {},
   "outputs": [
    {
     "name": "stdout",
     "output_type": "stream",
     "text": [
      "62 121 100\n",
      "(499, 500, 3)\n"
     ]
    }
   ],
   "source": [
    "# getting the BGR values for the first pixel\n",
    "B,G, R = image[0, 0]\n",
    "print (B ,G, R)\n",
    "print(image.shape)"
   ]
  },
  {
   "cell_type": "code",
   "execution_count": 4,
   "metadata": {},
   "outputs": [
    {
     "name": "stdout",
     "output_type": "stream",
     "text": [
      "(499, 500)\n",
      "108\n"
     ]
    }
   ],
   "source": [
    "grey_image = cv2.cvtColor(image, cv2.COLOR_BGR2GRAY)\n",
    "print(grey_image.shape)\n",
    "print(grey_image[0, 0])"
   ]
  },
  {
   "cell_type": "code",
   "execution_count": 5,
   "metadata": {},
   "outputs": [],
   "source": [
    "###color spaces in HSV ie Hue Saturation and value"
   ]
  },
  {
   "cell_type": "code",
   "execution_count": 6,
   "metadata": {},
   "outputs": [],
   "source": [
    "image = cv2.imread('dog.790.jpg')\n",
    "hsv_image = cv2.cvtColor(image, cv2.COLOR_BGR2HSV)\n",
    "cv2.imshow('HSV Image', hsv_image)\n",
    "cv2.imshow('Hue image',hsv_image[:, :, 0])\n",
    "cv2.imshow('Saturation image', hsv_image[:,:,1])\n",
    "cv2.imshow('Value image',hsv_image[:, :, 2])\n",
    "cv2.waitKey()\n",
    "cv2.destroyAllWindows()"
   ]
  },
  {
   "cell_type": "code",
   "execution_count": 7,
   "metadata": {},
   "outputs": [],
   "source": [
    "# splitting the image into different images with distinct Blue Green and Red images"
   ]
  },
  {
   "cell_type": "code",
   "execution_count": 11,
   "metadata": {},
   "outputs": [
    {
     "name": "stdout",
     "output_type": "stream",
     "text": [
      "(597, 968)\n"
     ]
    }
   ],
   "source": [
    "image = cv2.imread('tobago.jpg')\n",
    "#openCVs 'split' function splits the image into each distinct color index\n",
    "B, G, R = cv2.split(image)\n",
    "print(B.shape)\n",
    "\n",
    "#images will be shown in grayscale\n",
    "cv2.imshow('original', image)\n",
    "cv2.imshow('Redified image', R)\n",
    "cv2.imshow('Greenified image', G)\n",
    "cv2.imshow('Blue image', B)\n",
    "\n",
    "# remaking the image\n",
    "merge = cv2.merge([B, G, R])\n",
    "cv2.imshow('Merged pic', merge)\n",
    "\n",
    "#amplifying the color\n",
    "merge = cv2.merge([B+100, G+100, R])\n",
    "cv2.imshow('Merged pic with green and Blue color amplified', merge)\n",
    "\n",
    "cv2.waitKey()\n",
    "cv2.destroyAllWindows()"
   ]
  },
  {
   "cell_type": "code",
   "execution_count": null,
   "metadata": {},
   "outputs": [],
   "source": []
  }
 ],
 "metadata": {
  "kernelspec": {
   "display_name": "Python 3",
   "language": "python",
   "name": "python3"
  },
  "language_info": {
   "codemirror_mode": {
    "name": "ipython",
    "version": 3
   },
   "file_extension": ".py",
   "mimetype": "text/x-python",
   "name": "python",
   "nbconvert_exporter": "python",
   "pygments_lexer": "ipython3",
   "version": "3.6.9"
  }
 },
 "nbformat": 4,
 "nbformat_minor": 2
}
